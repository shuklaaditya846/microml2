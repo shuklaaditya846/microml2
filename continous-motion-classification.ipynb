{
 "cells": [
  {
   "cell_type": "markdown",
   "id": "d3046d9d",
   "metadata": {},
   "source": [
    "# Continous motion classification\n",
    "\n",
    "\n",
    "In this project we will use Machine Learning to detect which gesture the user is performing by means of the accelerometer and gyroscope data coming from an IMU (Inertia Measurement Unit) sensor.\n",
    "\n",
    "This task differs from the previous ones since it involves *time* as a feature. We are no more working with static data: we'll work with values that change over time.\n",
    "\n",
    "We will learn that, when dealing with time series data, we need to use a *windowing scheme*, to groups sensor readings in chunks to be processed. From each chunk we can later extract a set of *spectral features* to use as inputs for classification.\n",
    "\n",
    "This project is a replica of [the one from Edge Impulse](https://docs.edgeimpulse.com/docs/tutorials/continuous-motion-recognition). Instead of using Neural Networks, though, we will use a \"traditional\" classifier."
   ]
  },
  {
   "cell_type": "markdown",
   "id": "6362fea1",
   "metadata": {},
   "source": [
    "## Hardware requirements\n",
    "\n",
    "To follow this project you need an IMU sensor.\n",
    "\n",
    "It can either be built-in your board (e.g Arduino BLE Sense) or an external sensor (e.g. MPU9250)."
   ]
  },
  {
   "cell_type": "markdown",
   "id": "e550217c",
   "metadata": {},
   "source": [
    "## Software requirements\n",
    "\n",
    "To implement the Machine Learning part in Python you will need the [`everywhereml`](https://github.com/eloquentarduino/everywhereml) library."
   ]
  },
  {
   "cell_type": "code",
   "execution_count": 3,
   "id": "d3afd704",
   "metadata": {},
   "outputs": [],
   "source": [
    "# !pip install everywhereml>=0.0.3"
   ]
  },
  {
   "cell_type": "markdown",
   "id": "b22d27b9",
   "metadata": {},
   "source": [
    "## Data collection\n",
    "\n",
    "We will collect training data via the Serial port of your PC.\n",
    "\n",
    "If you followed the [Fruit classification](#) project, the next piece of code will look familiar.\n",
    "\n",
    "First of all, create a sketch that is able to print accelerometer and gyroscope data. This will change based on your board and sensor; here is an example for the Arduino BLE Sense.\n",
    "\n",
    "```cpp\n",
    "// file IMUCollect.ino\n",
    "\n",
    "#include <Arduino_LSM9DS1.h>\n",
    "\n",
    "\n",
    "void setup() {\n",
    "  Serial.begin(115200);\n",
    "  while (!Serial);\n",
    "  Serial.println(\"Started\");\n",
    "\n",
    "  if (!IMU.begin()) {\n",
    "    Serial.println(\"Failed to initialize IMU!\");\n",
    "    while (1);\n",
    "  }\n",
    "\n",
    "  Serial.print(\"Accelerometer sample rate = \");\n",
    "  Serial.print(IMU.accelerationSampleRate());\n",
    "  Serial.println(\"Hz\");\n",
    "}\n",
    "\n",
    "void loop() {\n",
    "  float ax, ay, az, gx, gy, gz;\n",
    "  \n",
    "  if (!IMU.accelerationAvailable() || !IMU.gyroscopeAvailable())\n",
    "    return;\n",
    "    \n",
    "  IMU.readAcceleration(ax, ay, az);\n",
    "  IMU.readGyroscope(gx, gy, gz);\n",
    "\n",
    "  Serial.print(\"IMU: \");\n",
    "  Serial.print(ax);\n",
    "  Serial.print(\",\");\n",
    "  Serial.print(ay);\n",
    "  Serial.print(\",\");\n",
    "  Serial.print(az);\n",
    "  Serial.print(\",\");\n",
    "  Serial.print(gx);\n",
    "  Serial.print(\",\");\n",
    "  Serial.print(gy);\n",
    "  Serial.print(\",\");\n",
    "  Serial.print(gz);\n",
    "  Serial.print(\"\\n\");\n",
    "}\n",
    "```\n",
    "\n",
    "Then run the following Python code. It will connect to the Serial port of your board and start reading whatever gets printed. Everytime it finds a well-formed line of data, the program will add it to a list that you can eventually save to a file for later use."
   ]
  },
  {
   "cell_type": "code",
   "execution_count": 4,
   "id": "023ca7c3",
   "metadata": {},
   "outputs": [
    {
     "ename": "EmptyDataError",
     "evalue": "No columns to parse from file",
     "output_type": "error",
     "traceback": [
      "\u001b[0;31m---------------------------------------------------------------------------\u001b[0m",
      "\u001b[0;31mEmptyDataError\u001b[0m                            Traceback (most recent call last)",
      "Input \u001b[0;32mIn [4]\u001b[0m, in \u001b[0;36m<cell line: 13>\u001b[0;34m()\u001b[0m\n\u001b[1;32m      4\u001b[0m \u001b[38;5;124;03m\"\"\"\u001b[39;00m\n\u001b[1;32m      5\u001b[0m \u001b[38;5;124;03mCreate a SerialCollector object.\u001b[39;00m\n\u001b[1;32m      6\u001b[0m \u001b[38;5;124;03mEach data line is marked by the 'IMU:' string\u001b[39;00m\n\u001b[0;32m   (...)\u001b[0m\n\u001b[1;32m     10\u001b[0m \u001b[38;5;124;03mIf a imu.csv file already exists, skip collection\u001b[39;00m\n\u001b[1;32m     11\u001b[0m \u001b[38;5;124;03m\"\"\"\u001b[39;00m\n\u001b[1;32m     13\u001b[0m \u001b[38;5;28;01mtry\u001b[39;00m:\n\u001b[0;32m---> 14\u001b[0m     imu_dataset \u001b[38;5;241m=\u001b[39m \u001b[43mDataset\u001b[49m\u001b[38;5;241;43m.\u001b[39;49m\u001b[43mfrom_csv\u001b[49m\u001b[43m(\u001b[49m\n\u001b[1;32m     15\u001b[0m \u001b[43m        \u001b[49m\u001b[38;5;124;43m'\u001b[39;49m\u001b[38;5;124;43mimu.csv\u001b[39;49m\u001b[38;5;124;43m'\u001b[39;49m\u001b[43m,\u001b[49m\u001b[43m \u001b[49m\n\u001b[1;32m     16\u001b[0m \u001b[43m        \u001b[49m\u001b[43mname\u001b[49m\u001b[38;5;241;43m=\u001b[39;49m\u001b[38;5;124;43m'\u001b[39;49m\u001b[38;5;124;43mContinuousMotion\u001b[39;49m\u001b[38;5;124;43m'\u001b[39;49m\u001b[43m,\u001b[49m\u001b[43m \u001b[49m\n\u001b[1;32m     17\u001b[0m \u001b[43m        \u001b[49m\u001b[43mtarget_name_column\u001b[49m\u001b[38;5;241;43m=\u001b[39;49m\u001b[38;5;124;43m'\u001b[39;49m\u001b[38;5;124;43mtarget_name\u001b[39;49m\u001b[38;5;124;43m'\u001b[39;49m\n\u001b[1;32m     18\u001b[0m \u001b[43m    \u001b[49m\u001b[43m)\u001b[49m\n\u001b[1;32m     20\u001b[0m \u001b[38;5;28;01mexcept\u001b[39;00m \u001b[38;5;167;01mFileNotFoundError\u001b[39;00m:\n\u001b[1;32m     21\u001b[0m     imu_collector \u001b[38;5;241m=\u001b[39m SerialCollector(\n\u001b[1;32m     22\u001b[0m         port\u001b[38;5;241m=\u001b[39m\u001b[38;5;124m'\u001b[39m\u001b[38;5;124m/dev/cu.usbmodem141401\u001b[39m\u001b[38;5;124m'\u001b[39m, \n\u001b[1;32m     23\u001b[0m         baud\u001b[38;5;241m=\u001b[39m\u001b[38;5;241m115200\u001b[39m, \n\u001b[1;32m     24\u001b[0m         start_of_frame\u001b[38;5;241m=\u001b[39m\u001b[38;5;124m'\u001b[39m\u001b[38;5;124mIMU:\u001b[39m\u001b[38;5;124m'\u001b[39m, \n\u001b[1;32m     25\u001b[0m         feature_names\u001b[38;5;241m=\u001b[39m[\u001b[38;5;124m'\u001b[39m\u001b[38;5;124max\u001b[39m\u001b[38;5;124m'\u001b[39m, \u001b[38;5;124m'\u001b[39m\u001b[38;5;124may\u001b[39m\u001b[38;5;124m'\u001b[39m, \u001b[38;5;124m'\u001b[39m\u001b[38;5;124maz\u001b[39m\u001b[38;5;124m'\u001b[39m, \u001b[38;5;124m'\u001b[39m\u001b[38;5;124mgx\u001b[39m\u001b[38;5;124m'\u001b[39m, \u001b[38;5;124m'\u001b[39m\u001b[38;5;124mgy\u001b[39m\u001b[38;5;124m'\u001b[39m, \u001b[38;5;124m'\u001b[39m\u001b[38;5;124mgz\u001b[39m\u001b[38;5;124m'\u001b[39m]\n\u001b[1;32m     26\u001b[0m     )\n",
      "File \u001b[0;32m~/.local/lib/python3.8/site-packages/everywhereml/data/Dataset.py:75\u001b[0m, in \u001b[0;36mDataset.from_csv\u001b[0;34m(filename, name, target_column, target_name_column, **kwargs)\u001b[0m\n\u001b[1;32m     63\u001b[0m \u001b[38;5;129m@staticmethod\u001b[39m\n\u001b[1;32m     64\u001b[0m \u001b[38;5;28;01mdef\u001b[39;00m \u001b[38;5;21mfrom_csv\u001b[39m(filename, name, target_column\u001b[38;5;241m=\u001b[39m\u001b[38;5;124m'\u001b[39m\u001b[38;5;124mtarget\u001b[39m\u001b[38;5;124m'\u001b[39m, target_name_column\u001b[38;5;241m=\u001b[39m\u001b[38;5;28;01mNone\u001b[39;00m, \u001b[38;5;241m*\u001b[39m\u001b[38;5;241m*\u001b[39mkwargs):\n\u001b[1;32m     65\u001b[0m     \u001b[38;5;124;03m\"\"\"\u001b[39;00m\n\u001b[1;32m     66\u001b[0m \u001b[38;5;124;03m    Construct dataset from csv file\u001b[39;00m\n\u001b[1;32m     67\u001b[0m \u001b[38;5;124;03m    :param filename:\u001b[39;00m\n\u001b[0;32m   (...)\u001b[0m\n\u001b[1;32m     72\u001b[0m \u001b[38;5;124;03m    :return:\u001b[39;00m\n\u001b[1;32m     73\u001b[0m \u001b[38;5;124;03m    \"\"\"\u001b[39;00m\n\u001b[1;32m     74\u001b[0m     \u001b[38;5;28;01mreturn\u001b[39;00m Dataset\u001b[38;5;241m.\u001b[39mfrom_pandas(\n\u001b[0;32m---> 75\u001b[0m         \u001b[43mpd\u001b[49m\u001b[38;5;241;43m.\u001b[39;49m\u001b[43mread_csv\u001b[49m\u001b[43m(\u001b[49m\u001b[43mfilename\u001b[49m\u001b[43m,\u001b[49m\u001b[43m \u001b[49m\u001b[38;5;241;43m*\u001b[39;49m\u001b[38;5;241;43m*\u001b[39;49m\u001b[43mkwargs\u001b[49m\u001b[43m)\u001b[49m,\n\u001b[1;32m     76\u001b[0m         name\u001b[38;5;241m=\u001b[39mname,\n\u001b[1;32m     77\u001b[0m         target_column\u001b[38;5;241m=\u001b[39mtarget_column,\n\u001b[1;32m     78\u001b[0m         target_name_column\u001b[38;5;241m=\u001b[39mtarget_name_column\n\u001b[1;32m     79\u001b[0m     )\n",
      "File \u001b[0;32m~/.local/lib/python3.8/site-packages/pandas/util/_decorators.py:311\u001b[0m, in \u001b[0;36mdeprecate_nonkeyword_arguments.<locals>.decorate.<locals>.wrapper\u001b[0;34m(*args, **kwargs)\u001b[0m\n\u001b[1;32m    305\u001b[0m \u001b[38;5;28;01mif\u001b[39;00m \u001b[38;5;28mlen\u001b[39m(args) \u001b[38;5;241m>\u001b[39m num_allow_args:\n\u001b[1;32m    306\u001b[0m     warnings\u001b[38;5;241m.\u001b[39mwarn(\n\u001b[1;32m    307\u001b[0m         msg\u001b[38;5;241m.\u001b[39mformat(arguments\u001b[38;5;241m=\u001b[39marguments),\n\u001b[1;32m    308\u001b[0m         \u001b[38;5;167;01mFutureWarning\u001b[39;00m,\n\u001b[1;32m    309\u001b[0m         stacklevel\u001b[38;5;241m=\u001b[39mstacklevel,\n\u001b[1;32m    310\u001b[0m     )\n\u001b[0;32m--> 311\u001b[0m \u001b[38;5;28;01mreturn\u001b[39;00m \u001b[43mfunc\u001b[49m\u001b[43m(\u001b[49m\u001b[38;5;241;43m*\u001b[39;49m\u001b[43margs\u001b[49m\u001b[43m,\u001b[49m\u001b[43m \u001b[49m\u001b[38;5;241;43m*\u001b[39;49m\u001b[38;5;241;43m*\u001b[39;49m\u001b[43mkwargs\u001b[49m\u001b[43m)\u001b[49m\n",
      "File \u001b[0;32m~/.local/lib/python3.8/site-packages/pandas/io/parsers/readers.py:680\u001b[0m, in \u001b[0;36mread_csv\u001b[0;34m(filepath_or_buffer, sep, delimiter, header, names, index_col, usecols, squeeze, prefix, mangle_dupe_cols, dtype, engine, converters, true_values, false_values, skipinitialspace, skiprows, skipfooter, nrows, na_values, keep_default_na, na_filter, verbose, skip_blank_lines, parse_dates, infer_datetime_format, keep_date_col, date_parser, dayfirst, cache_dates, iterator, chunksize, compression, thousands, decimal, lineterminator, quotechar, quoting, doublequote, escapechar, comment, encoding, encoding_errors, dialect, error_bad_lines, warn_bad_lines, on_bad_lines, delim_whitespace, low_memory, memory_map, float_precision, storage_options)\u001b[0m\n\u001b[1;32m    665\u001b[0m kwds_defaults \u001b[38;5;241m=\u001b[39m _refine_defaults_read(\n\u001b[1;32m    666\u001b[0m     dialect,\n\u001b[1;32m    667\u001b[0m     delimiter,\n\u001b[0;32m   (...)\u001b[0m\n\u001b[1;32m    676\u001b[0m     defaults\u001b[38;5;241m=\u001b[39m{\u001b[38;5;124m\"\u001b[39m\u001b[38;5;124mdelimiter\u001b[39m\u001b[38;5;124m\"\u001b[39m: \u001b[38;5;124m\"\u001b[39m\u001b[38;5;124m,\u001b[39m\u001b[38;5;124m\"\u001b[39m},\n\u001b[1;32m    677\u001b[0m )\n\u001b[1;32m    678\u001b[0m kwds\u001b[38;5;241m.\u001b[39mupdate(kwds_defaults)\n\u001b[0;32m--> 680\u001b[0m \u001b[38;5;28;01mreturn\u001b[39;00m \u001b[43m_read\u001b[49m\u001b[43m(\u001b[49m\u001b[43mfilepath_or_buffer\u001b[49m\u001b[43m,\u001b[49m\u001b[43m \u001b[49m\u001b[43mkwds\u001b[49m\u001b[43m)\u001b[49m\n",
      "File \u001b[0;32m~/.local/lib/python3.8/site-packages/pandas/io/parsers/readers.py:575\u001b[0m, in \u001b[0;36m_read\u001b[0;34m(filepath_or_buffer, kwds)\u001b[0m\n\u001b[1;32m    572\u001b[0m _validate_names(kwds\u001b[38;5;241m.\u001b[39mget(\u001b[38;5;124m\"\u001b[39m\u001b[38;5;124mnames\u001b[39m\u001b[38;5;124m\"\u001b[39m, \u001b[38;5;28;01mNone\u001b[39;00m))\n\u001b[1;32m    574\u001b[0m \u001b[38;5;66;03m# Create the parser.\u001b[39;00m\n\u001b[0;32m--> 575\u001b[0m parser \u001b[38;5;241m=\u001b[39m \u001b[43mTextFileReader\u001b[49m\u001b[43m(\u001b[49m\u001b[43mfilepath_or_buffer\u001b[49m\u001b[43m,\u001b[49m\u001b[43m \u001b[49m\u001b[38;5;241;43m*\u001b[39;49m\u001b[38;5;241;43m*\u001b[39;49m\u001b[43mkwds\u001b[49m\u001b[43m)\u001b[49m\n\u001b[1;32m    577\u001b[0m \u001b[38;5;28;01mif\u001b[39;00m chunksize \u001b[38;5;129;01mor\u001b[39;00m iterator:\n\u001b[1;32m    578\u001b[0m     \u001b[38;5;28;01mreturn\u001b[39;00m parser\n",
      "File \u001b[0;32m~/.local/lib/python3.8/site-packages/pandas/io/parsers/readers.py:933\u001b[0m, in \u001b[0;36mTextFileReader.__init__\u001b[0;34m(self, f, engine, **kwds)\u001b[0m\n\u001b[1;32m    930\u001b[0m     \u001b[38;5;28mself\u001b[39m\u001b[38;5;241m.\u001b[39moptions[\u001b[38;5;124m\"\u001b[39m\u001b[38;5;124mhas_index_names\u001b[39m\u001b[38;5;124m\"\u001b[39m] \u001b[38;5;241m=\u001b[39m kwds[\u001b[38;5;124m\"\u001b[39m\u001b[38;5;124mhas_index_names\u001b[39m\u001b[38;5;124m\"\u001b[39m]\n\u001b[1;32m    932\u001b[0m \u001b[38;5;28mself\u001b[39m\u001b[38;5;241m.\u001b[39mhandles: IOHandles \u001b[38;5;241m|\u001b[39m \u001b[38;5;28;01mNone\u001b[39;00m \u001b[38;5;241m=\u001b[39m \u001b[38;5;28;01mNone\u001b[39;00m\n\u001b[0;32m--> 933\u001b[0m \u001b[38;5;28mself\u001b[39m\u001b[38;5;241m.\u001b[39m_engine \u001b[38;5;241m=\u001b[39m \u001b[38;5;28;43mself\u001b[39;49m\u001b[38;5;241;43m.\u001b[39;49m\u001b[43m_make_engine\u001b[49m\u001b[43m(\u001b[49m\u001b[43mf\u001b[49m\u001b[43m,\u001b[49m\u001b[43m \u001b[49m\u001b[38;5;28;43mself\u001b[39;49m\u001b[38;5;241;43m.\u001b[39;49m\u001b[43mengine\u001b[49m\u001b[43m)\u001b[49m\n",
      "File \u001b[0;32m~/.local/lib/python3.8/site-packages/pandas/io/parsers/readers.py:1235\u001b[0m, in \u001b[0;36mTextFileReader._make_engine\u001b[0;34m(self, f, engine)\u001b[0m\n\u001b[1;32m   1232\u001b[0m     \u001b[38;5;28;01mraise\u001b[39;00m \u001b[38;5;167;01mValueError\u001b[39;00m(msg)\n\u001b[1;32m   1234\u001b[0m \u001b[38;5;28;01mtry\u001b[39;00m:\n\u001b[0;32m-> 1235\u001b[0m     \u001b[38;5;28;01mreturn\u001b[39;00m \u001b[43mmapping\u001b[49m\u001b[43m[\u001b[49m\u001b[43mengine\u001b[49m\u001b[43m]\u001b[49m\u001b[43m(\u001b[49m\u001b[43mf\u001b[49m\u001b[43m,\u001b[49m\u001b[43m \u001b[49m\u001b[38;5;241;43m*\u001b[39;49m\u001b[38;5;241;43m*\u001b[39;49m\u001b[38;5;28;43mself\u001b[39;49m\u001b[38;5;241;43m.\u001b[39;49m\u001b[43moptions\u001b[49m\u001b[43m)\u001b[49m\n\u001b[1;32m   1236\u001b[0m \u001b[38;5;28;01mexcept\u001b[39;00m \u001b[38;5;167;01mException\u001b[39;00m:\n\u001b[1;32m   1237\u001b[0m     \u001b[38;5;28;01mif\u001b[39;00m \u001b[38;5;28mself\u001b[39m\u001b[38;5;241m.\u001b[39mhandles \u001b[38;5;129;01mis\u001b[39;00m \u001b[38;5;129;01mnot\u001b[39;00m \u001b[38;5;28;01mNone\u001b[39;00m:\n",
      "File \u001b[0;32m~/.local/lib/python3.8/site-packages/pandas/io/parsers/c_parser_wrapper.py:75\u001b[0m, in \u001b[0;36mCParserWrapper.__init__\u001b[0;34m(self, src, **kwds)\u001b[0m\n\u001b[1;32m     72\u001b[0m     kwds\u001b[38;5;241m.\u001b[39mpop(key, \u001b[38;5;28;01mNone\u001b[39;00m)\n\u001b[1;32m     74\u001b[0m kwds[\u001b[38;5;124m\"\u001b[39m\u001b[38;5;124mdtype\u001b[39m\u001b[38;5;124m\"\u001b[39m] \u001b[38;5;241m=\u001b[39m ensure_dtype_objs(kwds\u001b[38;5;241m.\u001b[39mget(\u001b[38;5;124m\"\u001b[39m\u001b[38;5;124mdtype\u001b[39m\u001b[38;5;124m\"\u001b[39m, \u001b[38;5;28;01mNone\u001b[39;00m))\n\u001b[0;32m---> 75\u001b[0m \u001b[38;5;28mself\u001b[39m\u001b[38;5;241m.\u001b[39m_reader \u001b[38;5;241m=\u001b[39m \u001b[43mparsers\u001b[49m\u001b[38;5;241;43m.\u001b[39;49m\u001b[43mTextReader\u001b[49m\u001b[43m(\u001b[49m\u001b[43msrc\u001b[49m\u001b[43m,\u001b[49m\u001b[43m \u001b[49m\u001b[38;5;241;43m*\u001b[39;49m\u001b[38;5;241;43m*\u001b[39;49m\u001b[43mkwds\u001b[49m\u001b[43m)\u001b[49m\n\u001b[1;32m     77\u001b[0m \u001b[38;5;28mself\u001b[39m\u001b[38;5;241m.\u001b[39munnamed_cols \u001b[38;5;241m=\u001b[39m \u001b[38;5;28mself\u001b[39m\u001b[38;5;241m.\u001b[39m_reader\u001b[38;5;241m.\u001b[39munnamed_cols\n\u001b[1;32m     79\u001b[0m \u001b[38;5;66;03m# error: Cannot determine type of 'names'\u001b[39;00m\n",
      "File \u001b[0;32m~/.local/lib/python3.8/site-packages/pandas/_libs/parsers.pyx:551\u001b[0m, in \u001b[0;36mpandas._libs.parsers.TextReader.__cinit__\u001b[0;34m()\u001b[0m\n",
      "\u001b[0;31mEmptyDataError\u001b[0m: No columns to parse from file"
     ]
    }
   ],
   "source": [
    "from everywhereml.data import Dataset\n",
    "from everywhereml.data.collect import SerialCollector\n",
    "\n",
    "\"\"\"\n",
    "Create a SerialCollector object.\n",
    "Each data line is marked by the 'IMU:' string\n",
    "Collect 30 seconds of data for each gesture\n",
    "Replace the port with your own!\n",
    "\n",
    "If a imu.csv file already exists, skip collection\n",
    "\"\"\"\n",
    "\n",
    "try:\n",
    "    imu_dataset = Dataset.from_csv(\n",
    "        'imu.csv', \n",
    "        name='ContinuousMotion', \n",
    "        target_name_column='target_name'\n",
    "    )\n",
    "    \n",
    "except FileNotFoundError:\n",
    "    imu_collector = SerialCollector(\n",
    "        port='/dev/cu.usbmodem141401', \n",
    "        baud=115200, \n",
    "        start_of_frame='IMU:', \n",
    "        feature_names=['ax', 'ay', 'az', 'gx', 'gy', 'gz']\n",
    "    )\n",
    "    imu_dataset = imu_collector.collect_many_classes(\n",
    "        dataset_name='ContinuousMotion', \n",
    "        duration=30\n",
    "    )\n",
    "    \n",
    "    # save dataset to file for later use\n",
    "    imu_dataset.df.to_csv('imu.csv', index=False)"
   ]
  },
  {
   "cell_type": "code",
   "execution_count": null,
   "id": "28a68d76",
   "metadata": {},
   "outputs": [],
   "source": [
    "\"\"\"\n",
    "Print summary of dataset\n",
    "\"\"\"\n",
    "imu_dataset.describe()"
   ]
  },
  {
   "cell_type": "code",
   "execution_count": null,
   "id": "3dbec22f",
   "metadata": {},
   "outputs": [],
   "source": [
    "\"\"\"\n",
    "Plot features pairplot\n",
    "Since this is a time series dataset, the pairplot won't be very informative\n",
    "We will come back to the pairplot after feature pre-processing to see great improvements!\n",
    "\"\"\"\n",
    "imu_dataset.plot.features_pairplot(n=300)"
   ]
  },
  {
   "cell_type": "markdown",
   "id": "481a336e",
   "metadata": {},
   "source": [
    "## Feature extraction\n",
    "\n",
    "Now that we have collect our dataset, it is time to extract features from it.\n",
    "\n",
    "When working with time series data, our go-to feature extractor is a combination of `Window` + `Spectral Features`.\n",
    "\n",
    "`Window` packs a given number of consecutive readings into a single, large array. You can configure it to overlap each window with the previous by a given amount, so as to capture different time slices of the same event.\n",
    "\n",
    "![Window example](./assets/rolling-window.jpg)\n",
    "\n",
    "`SpectralFeatures` takes in input the *windowed* data and extracts a number of statistics from it, for example:\n",
    "\n",
    " - min / max\n",
    " - absolute value min / max\n",
    " - mean value\n",
    " - variance and standard deviation\n",
    " - [skew](https://en.wikipedia.org/wiki/Skewness) and [kurtosis](https://en.wikipedia.org/wiki/Kurtosis)"
   ]
  },
  {
   "cell_type": "code",
   "execution_count": null,
   "id": "60739e5b",
   "metadata": {},
   "outputs": [],
   "source": [
    "from everywhereml.preprocessing import Pipeline, MinMaxScaler, Window, SpectralFeatures\n",
    "\n",
    "# this is the frequency of your sensor\n",
    "# change according to your hardware\n",
    "sampling_frequency = 104\n",
    "mean_gesture_duration_in_millis = 1000\n",
    "window_length = sampling_frequency * mean_gesture_duration_in_millis // 1000\n",
    "\n",
    "imu_pipeline = Pipeline(name='ContinousMotionPipeline', steps=[\n",
    "    MinMaxScaler(),\n",
    "    # shift can be an integer (number of samples) or a float (percent)\n",
    "    Window(length=window_length, shift=0.3),\n",
    "    # order can either be 1 (first-order features) or 2 (add second-order features)\n",
    "    SpectralFeatures(order=2)\n",
    "])"
   ]
  },
  {
   "cell_type": "code",
   "execution_count": null,
   "id": "ae7db931",
   "metadata": {},
   "outputs": [],
   "source": [
    "\"\"\"\n",
    "Enumerate features extracted from the SpectralFeatures step\n",
    "\"\"\"\n",
    "from pprint import pprint\n",
    "\n",
    "pprint(imu_pipeline['SpectralFeatures'][0].feature_names)"
   ]
  },
  {
   "cell_type": "code",
   "execution_count": null,
   "id": "dccbff43",
   "metadata": {
    "scrolled": false
   },
   "outputs": [],
   "source": [
    "\"\"\"\n",
    "Apply feature pre-processing\n",
    "\"\"\"\n",
    "imu_dataset.apply(imu_pipeline)"
   ]
  },
  {
   "cell_type": "code",
   "execution_count": null,
   "id": "ccbbd94f",
   "metadata": {},
   "outputs": [],
   "source": [
    "imu_dataset.describe()"
   ]
  },
  {
   "cell_type": "code",
   "execution_count": null,
   "id": "6323334d",
   "metadata": {},
   "outputs": [],
   "source": [
    "\"\"\"\n",
    "Plot features pairplot after feature extraction\n",
    "Now it will start to make sense\n",
    "Since SpectralFeatures generates 8 or 20 features (depending on the order)\n",
    "for each axis, we limit the visualization to a more reasonable number\n",
    "\"\"\"\n",
    "imu_dataset.plot.features_pairplot(n=300, k=6)"
   ]
  },
  {
   "cell_type": "code",
   "execution_count": null,
   "id": "bf691e86",
   "metadata": {},
   "outputs": [],
   "source": [
    "\"\"\"\n",
    "Perform classification with a RandomForest\n",
    "\"\"\"\n",
    "from everywhereml.sklearn.ensemble import RandomForestClassifier\n",
    "\n",
    "imu_classifier = RandomForestClassifier(n_estimators=20, max_depth=20)\n",
    "imu_train, imu_test = imu_dataset.split(test_size=0.3)\n",
    "imu_classifier.fit(imu_train)\n",
    "\n",
    "print('Score on test set: %.2f' % imu_classifier.score(imu_test))"
   ]
  },
  {
   "cell_type": "markdown",
   "id": "5c91ea0c",
   "metadata": {},
   "source": [
    "As you can see from the plot, the `SpectralFeatures` feature extractor can convert the raw data windows to a meaningful set of features that a classifier can use to accurately predict the gesture."
   ]
  },
  {
   "cell_type": "markdown",
   "id": "5a7831d5",
   "metadata": {},
   "source": [
    "## Port to Arduino\n",
    "\n",
    "We need to port two pieces of code to Arduino:\n",
    "\n",
    " 1. the pre-processing pipeline\n",
    " 2. the classifier\n",
    " \n",
    "Both of them implement the `to_arduino_file()` function to perform this task."
   ]
  },
  {
   "cell_type": "code",
   "execution_count": null,
   "id": "0b8760d6",
   "metadata": {},
   "outputs": [],
   "source": [
    "\"\"\"\n",
    "Port pipeline to C++\n",
    "\"\"\"\n",
    "print(imu_pipeline.to_arduino_file(\n",
    "    'sketches/IMUClassify/Pipeline.h', \n",
    "    instance_name='pipeline'\n",
    "))"
   ]
  },
  {
   "cell_type": "code",
   "execution_count": null,
   "id": "93ab69da",
   "metadata": {},
   "outputs": [],
   "source": [
    "\"\"\"\n",
    "Port classifier to C++\n",
    "\"\"\"\n",
    "print(imu_classifier.to_arduino_file(\n",
    "    'sketches/IMUClassify/Classifier.h', \n",
    "    instance_name='forest', \n",
    "    class_map=imu_dataset.class_map\n",
    "))"
   ]
  },
  {
   "cell_type": "markdown",
   "id": "c77bdace",
   "metadata": {},
   "source": [
    "With these two pieces in place, it's time to integrate them into a sketch.\n",
    "\n",
    "```cpp\n",
    "// file IMUClassify.ino\n",
    "\n",
    "#include <Arduino_LSM9DS1.h>\n",
    "#include \"Pipeline.h\"\n",
    "#include \"Classifier.h\"\n",
    "\n",
    "\n",
    "void setup() {\n",
    "  Serial.begin(115200);\n",
    "  Serial.println(\"Started\");\n",
    "\n",
    "  while (!IMU.begin()) \n",
    "    Serial.println(\"Failed to initialize IMU!\");\n",
    "\n",
    "  Serial.print(\"Accelerometer sample rate = \");\n",
    "  Serial.print(IMU.accelerationSampleRate());\n",
    "  Serial.println(\"Hz\");\n",
    "}\n",
    "\n",
    "void loop() {\n",
    "  float ax, ay, az, gx, gy, gz;\n",
    "  \n",
    "  // await for data\n",
    "  if (!IMU.accelerationAvailable() || !IMU.gyroscopeAvailable())\n",
    "    return;\n",
    "    \n",
    "  IMU.readAcceleration(ax, ay, az);\n",
    "  IMU.readGyroscope(gx, gy, gz);\n",
    "\n",
    "  // perform feature extraction\n",
    "  float features[] = {ax, ay, az, gx, gy, gz};\n",
    "    \n",
    "  if (!pipeline.transform(features))\n",
    "    return;\n",
    "    \n",
    "  // perform classification\n",
    "  Serial.print(\"Predicted gesture: \");\n",
    "  Serial.print(forest.predictLabel(pipeline.X));\n",
    "  Serial.print(\" (DSP: \");\n",
    "  Serial.print(pipeline.latencyInMicros());\n",
    "  Serial.print(\" micros, Classifier: \");\n",
    "  Serial.print(forest.latencyInMicros());\n",
    "  Serial.println(\" micros)\");\n",
    "}\n",
    "```"
   ]
  },
  {
   "cell_type": "markdown",
   "id": "a20a9259",
   "metadata": {},
   "source": [
    "Deploy the sketch to your board and start performing each gesture.\n",
    "\n",
    "Based on the length of your gestures and the complexity of the classifier, you can expect sub-millisecond DSP time if using first-order features only and 100-200 microseconds for classification."
   ]
  },
  {
   "cell_type": "code",
   "execution_count": null,
   "id": "40cc7844",
   "metadata": {},
   "outputs": [],
   "source": []
  }
 ],
 "metadata": {
  "kernelspec": {
   "display_name": "Python 3 (ipykernel)",
   "language": "python",
   "name": "python3"
  },
  "language_info": {
   "codemirror_mode": {
    "name": "ipython",
    "version": 3
   },
   "file_extension": ".py",
   "mimetype": "text/x-python",
   "name": "python",
   "nbconvert_exporter": "python",
   "pygments_lexer": "ipython3",
   "version": "3.8.10"
  }
 },
 "nbformat": 4,
 "nbformat_minor": 5
}
